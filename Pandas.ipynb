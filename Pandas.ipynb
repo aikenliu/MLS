{
 "cells": [
  {
   "cell_type": "code",
   "execution_count": 4,
   "metadata": {},
   "outputs": [
    {
     "name": "stdout",
     "output_type": "stream",
     "text": [
      "version: 1.1.1\n",
      "printout:\n",
      "    c1  c2  c3  c4\n",
      "0  10   5   7  ti\n",
      "1  34   7  55  do\n",
      "2   2  10   4  do\n",
      "3   3   3   4  pa\n",
      "4   5  10  20  ti\n",
      "--------------------------------------------------\n",
      "shape= (5, 4)\n",
      "--------------------------------------------------\n",
      "line 1:\n",
      "    c1  c2  c3  c4\n",
      "0  10   5   7  ti\n",
      "--------------------------------------------------\n",
      "count values:\n",
      " 4     2\n",
      "7     1\n",
      "55    1\n",
      "20    1\n",
      "Name: c3, dtype: int64\n",
      "--------------------------------------------------\n",
      "<class 'pandas.core.frame.DataFrame'>\n",
      "RangeIndex: 5 entries, 0 to 4\n",
      "Data columns (total 4 columns):\n",
      " #   Column  Non-Null Count  Dtype \n",
      "---  ------  --------------  ----- \n",
      " 0   c1      5 non-null      int64 \n",
      " 1   c2      5 non-null      int64 \n",
      " 2   c3      5 non-null      int64 \n",
      " 3   c4      5 non-null      object\n",
      "dtypes: int64(3), object(1)\n",
      "memory usage: 288.0+ bytes\n",
      "info: None\n",
      "--------------------------------------------------\n"
     ]
    }
   ],
   "source": [
    "import numpy as np\n",
    "import pandas as pd\n",
    "import matplotlib.pyplot as plt\n",
    "print('version:',pd.__version__)\n",
    "sp=pd.read_csv(\"t1.csv\")\n",
    "## print all\n",
    "print(\"printout:\\n\",sp)\n",
    "print('-'*50)\n",
    "## show shape\n",
    "print(\"shape=\",sp.shape)\n",
    "print('-'*50)\n",
    "## show head line1\n",
    "print(\"line 1:\\n\", sp.head(1))\n",
    "print('-'*50)\n",
    "## count values\n",
    "print('count values:\\n',sp['c3'].value_counts())\n",
    "print('-'*50)\n",
    "## info \n",
    "print('info:',sp.info())\n",
    "print('-'*50)"
   ]
  },
  {
   "cell_type": "code",
   "execution_count": 2,
   "metadata": {},
   "outputs": [
    {
     "name": "stdout",
     "output_type": "stream",
     "text": [
      "['c1', 'c2', 'c3', 'c4_do', 'c4_pa', 'c4_ti']\n"
     ]
    }
   ],
   "source": [
    "# define variables for dummy features original\n",
    "sp_c=['c1','c2','c3','c4']\n",
    "sp_dummy = pd.get_dummies(sp[sp_c])\n",
    "sp_x_dummy = sp_dummy.columns.tolist()\n",
    "print(sp_x_dummy)"
   ]
  },
  {
   "cell_type": "code",
   "execution_count": 3,
   "metadata": {},
   "outputs": [
    {
     "name": "stdout",
     "output_type": "stream",
     "text": [
      "   c1  c3  c4\n",
      "0  10   7  ti\n",
      "1  34  55  do\n",
      "2   2   4  do\n",
      "3   3   4  pa\n",
      "4   5  20  ti\n"
     ]
    }
   ],
   "source": [
    "## drop column \"c2\"\n",
    "sped=sp.drop(labels=[\"c2\"],axis=1)\n",
    "print(sped)"
   ]
  },
  {
   "cell_type": "code",
   "execution_count": 39,
   "metadata": {},
   "outputs": [
    {
     "name": "stdout",
     "output_type": "stream",
     "text": [
      "<class 'pandas.core.series.Series'>\n",
      "0    10\n",
      "1    34\n",
      "2     2\n",
      "3     3\n",
      "4     5\n",
      "Name: c1, dtype: int64\n",
      "(5,)\n"
     ]
    }
   ],
   "source": [
    "yy=sp['c1']\n",
    "print(type(yy))\n",
    "print(yy)\n",
    "print(yy.shape)"
   ]
  },
  {
   "cell_type": "code",
   "execution_count": 40,
   "metadata": {},
   "outputs": [
    {
     "name": "stdout",
     "output_type": "stream",
     "text": [
      "[ 0.61161163 -1.00780638  0.29786816  0.79832559  0.15833784 -0.83321719\n",
      "  0.03635748 -0.39144192 -0.96336641  1.68846308 -1.18041219  1.59266964\n",
      "  0.65846997  0.37734754  0.53259885 -0.49217154 -1.07144415  1.03984603\n",
      " -1.20008643  0.37682621 -0.22267097  0.32997208  2.47070034  1.13701097\n",
      " -0.63874717  1.72311482 -1.64121773  0.76270205  0.57607949 -1.15726232]\n"
     ]
    }
   ],
   "source": [
    "df=np.random.randn(30)\n",
    "print(df)"
   ]
  },
  {
   "cell_type": "code",
   "execution_count": 45,
   "metadata": {},
   "outputs": [
    {
     "data": {
      "text/plain": [
       "<matplotlib.image.AxesImage at 0x8d9ee10>"
      ]
     },
     "execution_count": 45,
     "metadata": {},
     "output_type": "execute_result"
    },
    {
     "data": {
      "image/png": "[encoded data removed]",
      "text/plain": [
       "<Figure size 432x288 with 1 Axes>"
      ]
     },
     "metadata": {
      "needs_background": "light"
     },
     "output_type": "display_data"
    }
   ],
   "source": [
    "aa=df.reshape(6,5)\n",
    "plt.imshow(aa)"
   ]
  },
  {
   "cell_type": "code",
   "execution_count": 46,
   "metadata": {},
   "outputs": [
    {
     "data": {
      "text/plain": [
       "array([ 0.61161163, -1.00780638,  0.29786816,  0.79832559,  0.15833784,\n",
       "       -0.83321719,  0.03635748, -0.39144192, -0.96336641,  1.68846308,\n",
       "       -1.18041219,  1.59266964,  0.65846997,  0.37734754,  0.53259885,\n",
       "       -0.49217154, -1.07144415,  1.03984603, -1.20008643,  0.37682621,\n",
       "       -0.22267097,  0.32997208,  2.47070034,  1.13701097, -0.63874717,\n",
       "        1.72311482, -1.64121773,  0.76270205,  0.57607949, -1.15726232])"
      ]
     },
     "execution_count": 46,
     "metadata": {},
     "output_type": "execute_result"
    }
   ],
   "source": [
    "aa.reshape(-1)"
   ]
  },
  {
   "cell_type": "code",
   "execution_count": null,
   "metadata": {},
   "outputs": [],
   "source": []
  }
 ],
 "metadata": {
  "kernelspec": {
   "display_name": "Python 3",
   "language": "python",
   "name": "python3"
  },
  "language_info": {
   "codemirror_mode": {
    "name": "ipython",
    "version": 3
   },
   "file_extension": ".py",
   "mimetype": "text/x-python",
   "name": "python",
   "nbconvert_exporter": "python",
   "pygments_lexer": "ipython3",
   "version": "3.7.3"
  }
 },
 "nbformat": 4,
 "nbformat_minor": 2
}
