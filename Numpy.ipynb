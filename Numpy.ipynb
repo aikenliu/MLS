{
 "cells": [
  {
   "cell_type": "code",
   "execution_count": 15,
   "metadata": {},
   "outputs": [],
   "source": [
    "import numpy as np\n",
    "ar=[np.array([[1,2,3],[4,5,6],[7,8,9]],dtype=np.int32)]\n",
    "br=np.array([[[600, 320]], [[563, 460]], [[460, 562]], [[320, 600]], [[180, 563]], [[78, 460]], [[40, 320]], [[77, 180]],\n",
    "         [[179, 78]], [[319, 40]], [[459, 77]], [[562, 179]]], dtype=np.int32)"
   ]
  },
  {
   "cell_type": "code",
   "execution_count": 18,
   "metadata": {},
   "outputs": [
    {
     "data": {
      "text/plain": [
       "array([[[600, 320]],\n",
       "\n",
       "       [[563, 460]],\n",
       "\n",
       "       [[460, 562]],\n",
       "\n",
       "       [[320, 600]],\n",
       "\n",
       "       [[180, 563]],\n",
       "\n",
       "       [[ 78, 460]],\n",
       "\n",
       "       [[ 40, 320]],\n",
       "\n",
       "       [[ 77, 180]],\n",
       "\n",
       "       [[179,  78]],\n",
       "\n",
       "       [[319,  40]],\n",
       "\n",
       "       [[459,  77]],\n",
       "\n",
       "       [[562, 179]]])"
      ]
     },
     "execution_count": 18,
     "metadata": {},
     "output_type": "execute_result"
    }
   ],
   "source": [
    "# print(ar)\n",
    "# print(br)\n",
    "br"
   ]
  },
  {
   "cell_type": "code",
   "execution_count": 17,
   "metadata": {},
   "outputs": [
    {
     "data": {
      "text/plain": [
       "array([[600, 320],\n",
       "       [563, 460],\n",
       "       [460, 562],\n",
       "       [320, 600],\n",
       "       [180, 563],\n",
       "       [ 78, 460],\n",
       "       [ 40, 320],\n",
       "       [ 77, 180],\n",
       "       [179,  78],\n",
       "       [319,  40],\n",
       "       [459,  77],\n",
       "       [562, 179]])"
      ]
     },
     "execution_count": 17,
     "metadata": {},
     "output_type": "execute_result"
    }
   ],
   "source": [
    "np.squeeze(br)"
   ]
  },
  {
   "cell_type": "code",
   "execution_count": null,
   "metadata": {},
   "outputs": [],
   "source": []
  }
 ],
 "metadata": {
  "kernelspec": {
   "display_name": "Python 3",
   "language": "python",
   "name": "python3"
  },
  "language_info": {
   "codemirror_mode": {
    "name": "ipython",
    "version": 3
   },
   "file_extension": ".py",
   "mimetype": "text/x-python",
   "name": "python",
   "nbconvert_exporter": "python",
   "pygments_lexer": "ipython3",
   "version": "3.7.3"
  }
 },
 "nbformat": 4,
 "nbformat_minor": 2
}
